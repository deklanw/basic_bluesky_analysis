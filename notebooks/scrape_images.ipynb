{
 "cells": [
  {
   "cell_type": "code",
   "execution_count": 1,
   "metadata": {},
   "outputs": [],
   "source": [
    "import pickle\n",
    "import requests\n",
    "from PIL import Image"
   ]
  },
  {
   "cell_type": "code",
   "execution_count": 7,
   "metadata": {},
   "outputs": [],
   "source": [
    "default_img_path = \"output/bluesky_default.jpg\""
   ]
  },
  {
   "cell_type": "code",
   "execution_count": 2,
   "metadata": {},
   "outputs": [],
   "source": [
    "default_img_bytes = open(default_img_path, \"rb\").read()"
   ]
  },
  {
   "cell_type": "code",
   "execution_count": 8,
   "metadata": {},
   "outputs": [],
   "source": [
    "downscaled_size = 256\n",
    "downscaled_default = Image.open(default_img_path).resize((downscaled_size, downscaled_size), resample=Image.Resampling.LANCZOS)"
   ]
  },
  {
   "cell_type": "code",
   "execution_count": 3,
   "metadata": {},
   "outputs": [],
   "source": [
    "df_filtered = pickle.load(open('output/df_filtered.pkl', 'rb'))"
   ]
  },
  {
   "cell_type": "code",
   "execution_count": 4,
   "metadata": {},
   "outputs": [],
   "source": [
    "for row in df_filtered.itertuples():\n",
    "    fn = f\"output/images/{row.handle}.jpg\"\n",
    "\n",
    "    if row.avatar_url:\n",
    "        r = requests.get(row.avatar_url, allow_redirects=True)\n",
    "        open(fn, \"wb\").write(r.content)\n",
    "    else:\n",
    "        open(fn, \"wb\").write(default_img_bytes)"
   ]
  },
  {
   "cell_type": "code",
   "execution_count": 9,
   "metadata": {},
   "outputs": [
    {
     "name": "stdout",
     "output_type": "stream",
     "text": [
      "cannot identify image file 'output/images/bluehaven.bsky.social.jpg'\n",
      "Saving downscaled instead.\n",
      "\n",
      "cannot identify image file 'output/images/versio2346de.bsky.social.jpg'\n",
      "Saving downscaled instead.\n",
      "\n"
     ]
    }
   ],
   "source": [
    "import os\n",
    "\n",
    "\n",
    "for fn in os.listdir(\"output/images\"):\n",
    "    try:\n",
    "        img_path = f\"output/images/{fn}\"\n",
    "        im = Image.open(img_path).resize((downscaled_size, downscaled_size), resample=Image.Resampling.LANCZOS)\n",
    "\n",
    "        # now write it out to output/images_resized\n",
    "\n",
    "        im.save(f\"output/images_resized/{fn}\")\n",
    "    except Exception as e:\n",
    "        print(e)\n",
    "        print(\"Saving downscaled instead.\\n\")\n",
    "        downscaled_default.save(f\"output/images_resized/{fn}\")\n"
   ]
  },
  {
   "cell_type": "code",
   "execution_count": 10,
   "metadata": {},
   "outputs": [],
   "source": [
    "for fn in os.listdir(\"output/images_resized\"):\n",
    "    unoptimized_location = f\"output/images_resized/{fn}\"\n",
    "    optimized_location = f\"output/images_resized_optimized/{fn}\"\n",
    "    !/opt/mozjpeg/bin/cjpeg -quality 75 {unoptimized_location} > {optimized_location}"
   ]
  }
 ],
 "metadata": {
  "kernelspec": {
   "display_name": "gt",
   "language": "python",
   "name": "python3"
  },
  "language_info": {
   "codemirror_mode": {
    "name": "ipython",
    "version": 3
   },
   "file_extension": ".py",
   "mimetype": "text/x-python",
   "name": "python",
   "nbconvert_exporter": "python",
   "pygments_lexer": "ipython3",
   "version": "3.10.5"
  },
  "orig_nbformat": 4
 },
 "nbformat": 4,
 "nbformat_minor": 2
}
