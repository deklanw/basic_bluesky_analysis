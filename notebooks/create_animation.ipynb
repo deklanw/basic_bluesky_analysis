{
 "cells": [
  {
   "cell_type": "code",
   "execution_count": 1,
   "metadata": {},
   "outputs": [],
   "source": [
    "import os\n",
    "from PIL import Image, ImageDraw, ImageFont\n",
    "import imageio\n",
    "from moviepy.editor import ImageSequenceClip"
   ]
  },
  {
   "cell_type": "code",
   "execution_count": 2,
   "metadata": {},
   "outputs": [],
   "source": [
    "def add_label_to_image(image_path, label, output_path):\n",
    "    image = Image.open(image_path)\n",
    "    draw = ImageDraw.Draw(image)\n",
    "    font = ImageFont.truetype(\"output/Roboto-Bold.ttf\", size=75)  # Adjust font and size as needed\n",
    "    draw.text((10, 10), label, font=font, fill=\"black\")  # Adjust position and color as needed\n",
    "    image.save(output_path)"
   ]
  },
  {
   "cell_type": "code",
   "execution_count": 3,
   "metadata": {},
   "outputs": [],
   "source": [
    "input_folder = \"output/gephi_images/small_images/timestamps\"  # Replace with your input folder path\n",
    "output_folder = \"output/animation/\"\n",
    "os.makedirs(output_folder, exist_ok=True)\n",
    "\n",
    "labeled_image_paths = []\n",
    "for i in range(1, 30):\n",
    "    file_name = f\"{i}.png\"\n",
    "    image_path = os.path.join(input_folder, file_name)\n",
    "    output_path = os.path.join(output_folder, file_name)\n",
    "    label = f\"April {i}\"\n",
    "    add_label_to_image(image_path, label, output_path)\n",
    "    labeled_image_paths.append(output_path)"
   ]
  },
  {
   "cell_type": "code",
   "execution_count": 13,
   "metadata": {},
   "outputs": [
    {
     "name": "stdout",
     "output_type": "stream",
     "text": [
      "Moviepy - Building video output/animation//animated.mp4.\n",
      "Moviepy - Writing video output/animation//animated.mp4\n",
      "\n"
     ]
    },
    {
     "name": "stderr",
     "output_type": "stream",
     "text": [
      "                                                            \r"
     ]
    },
    {
     "name": "stdout",
     "output_type": "stream",
     "text": [
      "Moviepy - Done !\n",
      "Moviepy - video ready output/animation//animated.mp4\n"
     ]
    }
   ],
   "source": [
    "# Create animated GIF\n",
    "gif_output_path = f\"{output_folder}/animated.gif\"\n",
    "with imageio.get_writer(gif_output_path, mode='I', duration=750, loop=0) as writer:\n",
    "    for output_path in labeled_image_paths:\n",
    "        image = imageio.imread(output_path)\n",
    "        writer.append_data(image)\n",
    "\n",
    "\n",
    "# Create video\n",
    "video_output_path = f\"{output_folder}/animated.mp4\"\n",
    "clip = ImageSequenceClip(labeled_image_paths, fps=0.5)  # 0.5 fps means 2 seconds per image\n",
    "clip.write_videofile(video_output_path)"
   ]
  }
 ],
 "metadata": {
  "kernelspec": {
   "display_name": "3_11",
   "language": "python",
   "name": "python3"
  },
  "language_info": {
   "codemirror_mode": {
    "name": "ipython",
    "version": 3
   },
   "file_extension": ".py",
   "mimetype": "text/x-python",
   "name": "python",
   "nbconvert_exporter": "python",
   "pygments_lexer": "ipython3",
   "version": "3.11.0"
  },
  "orig_nbformat": 4
 },
 "nbformat": 4,
 "nbformat_minor": 2
}
