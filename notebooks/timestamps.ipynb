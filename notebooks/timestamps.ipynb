{
 "cells": [
  {
   "cell_type": "code",
   "execution_count": 3,
   "metadata": {},
   "outputs": [
    {
     "name": "stdout",
     "output_type": "stream",
     "text": [
      "April 1th UTC timestamp: 1680307200\n",
      "April 2th UTC timestamp: 1680393600\n",
      "April 3th UTC timestamp: 1680480000\n",
      "April 4th UTC timestamp: 1680566400\n",
      "April 5th UTC timestamp: 1680652800\n",
      "April 6th UTC timestamp: 1680739200\n",
      "April 7th UTC timestamp: 1680825600\n",
      "April 8th UTC timestamp: 1680912000\n",
      "April 9th UTC timestamp: 1680998400\n",
      "April 10th UTC timestamp: 1681084800\n",
      "April 11th UTC timestamp: 1681171200\n",
      "April 12th UTC timestamp: 1681257600\n",
      "April 13th UTC timestamp: 1681344000\n",
      "April 14th UTC timestamp: 1681430400\n",
      "April 15th UTC timestamp: 1681516800\n",
      "April 16th UTC timestamp: 1681603200\n",
      "April 17th UTC timestamp: 1681689600\n",
      "April 18th UTC timestamp: 1681776000\n",
      "April 19th UTC timestamp: 1681862400\n",
      "April 20th UTC timestamp: 1681948800\n",
      "April 21th UTC timestamp: 1682035200\n",
      "April 22th UTC timestamp: 1682121600\n",
      "April 23th UTC timestamp: 1682208000\n",
      "April 24th UTC timestamp: 1682294400\n",
      "April 25th UTC timestamp: 1682380800\n",
      "April 26th UTC timestamp: 1682467200\n",
      "April 27th UTC timestamp: 1682553600\n",
      "April 28th UTC timestamp: 1682640000\n",
      "April 29th UTC timestamp: 1682726400\n",
      "April 30th UTC timestamp: 1682812800\n"
     ]
    }
   ],
   "source": [
    "from datetime import datetime, timezone\n",
    "\n",
    "def get_utc_timestamp(year, month, day):\n",
    "    dt = datetime(year, month, day, tzinfo=timezone.utc)\n",
    "    return dt.timestamp()\n",
    "\n",
    "\n",
    "for i in range(1, 31):\n",
    "    april_utc = int(get_utc_timestamp(2023, 4, i))\n",
    "    print(f\"April {i}th UTC timestamp:\", april_utc)"
   ]
  }
 ],
 "metadata": {
  "kernelspec": {
   "display_name": "3_11",
   "language": "python",
   "name": "python3"
  },
  "language_info": {
   "codemirror_mode": {
    "name": "ipython",
    "version": 3
   },
   "file_extension": ".py",
   "mimetype": "text/x-python",
   "name": "python",
   "nbconvert_exporter": "python",
   "pygments_lexer": "ipython3",
   "version": "3.11.0"
  },
  "orig_nbformat": 4
 },
 "nbformat": 4,
 "nbformat_minor": 2
}
